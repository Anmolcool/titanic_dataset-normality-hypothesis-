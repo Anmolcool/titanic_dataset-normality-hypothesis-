{
 "cells": [
  {
   "cell_type": "code",
   "execution_count": 1,
   "id": "a977f015",
   "metadata": {},
   "outputs": [],
   "source": [
    "import numpy as np\n",
    "import pandas as pd\n",
    "import os"
   ]
  },
  {
   "cell_type": "code",
   "execution_count": 2,
   "id": "2891bdc1",
   "metadata": {},
   "outputs": [
    {
     "data": {
      "text/plain": [
       "'C:\\\\Users\\\\Anmol.Yadav\\\\Desktop\\\\data\\\\sundaram\\\\sundaram_stats_ml\\\\stats by sundaram\\\\16_28th Dec 2023(titanic normality)'"
      ]
     },
     "execution_count": 2,
     "metadata": {},
     "output_type": "execute_result"
    }
   ],
   "source": [
    "os.getcwd()"
   ]
  },
  {
   "cell_type": "code",
   "execution_count": 3,
   "id": "04595084",
   "metadata": {},
   "outputs": [
    {
     "data": {
      "text/html": [
       "<div>\n",
       "<style scoped>\n",
       "    .dataframe tbody tr th:only-of-type {\n",
       "        vertical-align: middle;\n",
       "    }\n",
       "\n",
       "    .dataframe tbody tr th {\n",
       "        vertical-align: top;\n",
       "    }\n",
       "\n",
       "    .dataframe thead th {\n",
       "        text-align: right;\n",
       "    }\n",
       "</style>\n",
       "<table border=\"1\" class=\"dataframe\">\n",
       "  <thead>\n",
       "    <tr style=\"text-align: right;\">\n",
       "      <th></th>\n",
       "      <th>PassengerId</th>\n",
       "      <th>Survived</th>\n",
       "      <th>Pclass</th>\n",
       "      <th>Name</th>\n",
       "      <th>Sex</th>\n",
       "      <th>Age</th>\n",
       "      <th>SibSp</th>\n",
       "      <th>Parch</th>\n",
       "      <th>Ticket</th>\n",
       "      <th>Fare</th>\n",
       "      <th>Cabin</th>\n",
       "      <th>Embarked</th>\n",
       "    </tr>\n",
       "  </thead>\n",
       "  <tbody>\n",
       "    <tr>\n",
       "      <th>0</th>\n",
       "      <td>1</td>\n",
       "      <td>0</td>\n",
       "      <td>3</td>\n",
       "      <td>Braund, Mr. Owen Harris</td>\n",
       "      <td>male</td>\n",
       "      <td>22.0</td>\n",
       "      <td>1</td>\n",
       "      <td>0</td>\n",
       "      <td>A/5 21171</td>\n",
       "      <td>7.2500</td>\n",
       "      <td>NaN</td>\n",
       "      <td>S</td>\n",
       "    </tr>\n",
       "    <tr>\n",
       "      <th>1</th>\n",
       "      <td>2</td>\n",
       "      <td>1</td>\n",
       "      <td>1</td>\n",
       "      <td>Cumings, Mrs. John Bradley (Florence Briggs Th...</td>\n",
       "      <td>female</td>\n",
       "      <td>38.0</td>\n",
       "      <td>1</td>\n",
       "      <td>0</td>\n",
       "      <td>PC 17599</td>\n",
       "      <td>71.2833</td>\n",
       "      <td>C85</td>\n",
       "      <td>C</td>\n",
       "    </tr>\n",
       "    <tr>\n",
       "      <th>2</th>\n",
       "      <td>3</td>\n",
       "      <td>1</td>\n",
       "      <td>3</td>\n",
       "      <td>Heikkinen, Miss. Laina</td>\n",
       "      <td>female</td>\n",
       "      <td>26.0</td>\n",
       "      <td>0</td>\n",
       "      <td>0</td>\n",
       "      <td>STON/O2. 3101282</td>\n",
       "      <td>7.9250</td>\n",
       "      <td>NaN</td>\n",
       "      <td>S</td>\n",
       "    </tr>\n",
       "    <tr>\n",
       "      <th>3</th>\n",
       "      <td>4</td>\n",
       "      <td>1</td>\n",
       "      <td>1</td>\n",
       "      <td>Futrelle, Mrs. Jacques Heath (Lily May Peel)</td>\n",
       "      <td>female</td>\n",
       "      <td>35.0</td>\n",
       "      <td>1</td>\n",
       "      <td>0</td>\n",
       "      <td>113803</td>\n",
       "      <td>53.1000</td>\n",
       "      <td>C123</td>\n",
       "      <td>S</td>\n",
       "    </tr>\n",
       "    <tr>\n",
       "      <th>4</th>\n",
       "      <td>5</td>\n",
       "      <td>0</td>\n",
       "      <td>3</td>\n",
       "      <td>Allen, Mr. William Henry</td>\n",
       "      <td>male</td>\n",
       "      <td>35.0</td>\n",
       "      <td>0</td>\n",
       "      <td>0</td>\n",
       "      <td>373450</td>\n",
       "      <td>8.0500</td>\n",
       "      <td>NaN</td>\n",
       "      <td>S</td>\n",
       "    </tr>\n",
       "    <tr>\n",
       "      <th>...</th>\n",
       "      <td>...</td>\n",
       "      <td>...</td>\n",
       "      <td>...</td>\n",
       "      <td>...</td>\n",
       "      <td>...</td>\n",
       "      <td>...</td>\n",
       "      <td>...</td>\n",
       "      <td>...</td>\n",
       "      <td>...</td>\n",
       "      <td>...</td>\n",
       "      <td>...</td>\n",
       "      <td>...</td>\n",
       "    </tr>\n",
       "    <tr>\n",
       "      <th>886</th>\n",
       "      <td>887</td>\n",
       "      <td>0</td>\n",
       "      <td>2</td>\n",
       "      <td>Montvila, Rev. Juozas</td>\n",
       "      <td>male</td>\n",
       "      <td>27.0</td>\n",
       "      <td>0</td>\n",
       "      <td>0</td>\n",
       "      <td>211536</td>\n",
       "      <td>13.0000</td>\n",
       "      <td>NaN</td>\n",
       "      <td>S</td>\n",
       "    </tr>\n",
       "    <tr>\n",
       "      <th>887</th>\n",
       "      <td>888</td>\n",
       "      <td>1</td>\n",
       "      <td>1</td>\n",
       "      <td>Graham, Miss. Margaret Edith</td>\n",
       "      <td>female</td>\n",
       "      <td>19.0</td>\n",
       "      <td>0</td>\n",
       "      <td>0</td>\n",
       "      <td>112053</td>\n",
       "      <td>30.0000</td>\n",
       "      <td>B42</td>\n",
       "      <td>S</td>\n",
       "    </tr>\n",
       "    <tr>\n",
       "      <th>888</th>\n",
       "      <td>889</td>\n",
       "      <td>0</td>\n",
       "      <td>3</td>\n",
       "      <td>Johnston, Miss. Catherine Helen \"Carrie\"</td>\n",
       "      <td>female</td>\n",
       "      <td>NaN</td>\n",
       "      <td>1</td>\n",
       "      <td>2</td>\n",
       "      <td>W./C. 6607</td>\n",
       "      <td>23.4500</td>\n",
       "      <td>NaN</td>\n",
       "      <td>S</td>\n",
       "    </tr>\n",
       "    <tr>\n",
       "      <th>889</th>\n",
       "      <td>890</td>\n",
       "      <td>1</td>\n",
       "      <td>1</td>\n",
       "      <td>Behr, Mr. Karl Howell</td>\n",
       "      <td>male</td>\n",
       "      <td>26.0</td>\n",
       "      <td>0</td>\n",
       "      <td>0</td>\n",
       "      <td>111369</td>\n",
       "      <td>30.0000</td>\n",
       "      <td>C148</td>\n",
       "      <td>C</td>\n",
       "    </tr>\n",
       "    <tr>\n",
       "      <th>890</th>\n",
       "      <td>891</td>\n",
       "      <td>0</td>\n",
       "      <td>3</td>\n",
       "      <td>Dooley, Mr. Patrick</td>\n",
       "      <td>male</td>\n",
       "      <td>32.0</td>\n",
       "      <td>0</td>\n",
       "      <td>0</td>\n",
       "      <td>370376</td>\n",
       "      <td>7.7500</td>\n",
       "      <td>NaN</td>\n",
       "      <td>Q</td>\n",
       "    </tr>\n",
       "  </tbody>\n",
       "</table>\n",
       "<p>891 rows × 12 columns</p>\n",
       "</div>"
      ],
      "text/plain": [
       "     PassengerId  Survived  Pclass  \\\n",
       "0              1         0       3   \n",
       "1              2         1       1   \n",
       "2              3         1       3   \n",
       "3              4         1       1   \n",
       "4              5         0       3   \n",
       "..           ...       ...     ...   \n",
       "886          887         0       2   \n",
       "887          888         1       1   \n",
       "888          889         0       3   \n",
       "889          890         1       1   \n",
       "890          891         0       3   \n",
       "\n",
       "                                                  Name     Sex   Age  SibSp  \\\n",
       "0                              Braund, Mr. Owen Harris    male  22.0      1   \n",
       "1    Cumings, Mrs. John Bradley (Florence Briggs Th...  female  38.0      1   \n",
       "2                               Heikkinen, Miss. Laina  female  26.0      0   \n",
       "3         Futrelle, Mrs. Jacques Heath (Lily May Peel)  female  35.0      1   \n",
       "4                             Allen, Mr. William Henry    male  35.0      0   \n",
       "..                                                 ...     ...   ...    ...   \n",
       "886                              Montvila, Rev. Juozas    male  27.0      0   \n",
       "887                       Graham, Miss. Margaret Edith  female  19.0      0   \n",
       "888           Johnston, Miss. Catherine Helen \"Carrie\"  female   NaN      1   \n",
       "889                              Behr, Mr. Karl Howell    male  26.0      0   \n",
       "890                                Dooley, Mr. Patrick    male  32.0      0   \n",
       "\n",
       "     Parch            Ticket     Fare Cabin Embarked  \n",
       "0        0         A/5 21171   7.2500   NaN        S  \n",
       "1        0          PC 17599  71.2833   C85        C  \n",
       "2        0  STON/O2. 3101282   7.9250   NaN        S  \n",
       "3        0            113803  53.1000  C123        S  \n",
       "4        0            373450   8.0500   NaN        S  \n",
       "..     ...               ...      ...   ...      ...  \n",
       "886      0            211536  13.0000   NaN        S  \n",
       "887      0            112053  30.0000   B42        S  \n",
       "888      2        W./C. 6607  23.4500   NaN        S  \n",
       "889      0            111369  30.0000  C148        C  \n",
       "890      0            370376   7.7500   NaN        Q  \n",
       "\n",
       "[891 rows x 12 columns]"
      ]
     },
     "execution_count": 3,
     "metadata": {},
     "output_type": "execute_result"
    }
   ],
   "source": [
    "data = pd.read_csv('titanic_train.csv')\n",
    "data"
   ]
  },
  {
   "cell_type": "code",
   "execution_count": 4,
   "id": "1f9306f8",
   "metadata": {},
   "outputs": [
    {
     "data": {
      "text/plain": [
       "(891, 12)"
      ]
     },
     "execution_count": 4,
     "metadata": {},
     "output_type": "execute_result"
    }
   ],
   "source": [
    "data.shape"
   ]
  },
  {
   "cell_type": "code",
   "execution_count": 5,
   "id": "e7632a64",
   "metadata": {},
   "outputs": [
    {
     "name": "stdout",
     "output_type": "stream",
     "text": [
      "<class 'pandas.core.frame.DataFrame'>\n",
      "RangeIndex: 891 entries, 0 to 890\n",
      "Data columns (total 12 columns):\n",
      " #   Column       Non-Null Count  Dtype  \n",
      "---  ------       --------------  -----  \n",
      " 0   PassengerId  891 non-null    int64  \n",
      " 1   Survived     891 non-null    int64  \n",
      " 2   Pclass       891 non-null    int64  \n",
      " 3   Name         891 non-null    object \n",
      " 4   Sex          891 non-null    object \n",
      " 5   Age          714 non-null    float64\n",
      " 6   SibSp        891 non-null    int64  \n",
      " 7   Parch        891 non-null    int64  \n",
      " 8   Ticket       891 non-null    object \n",
      " 9   Fare         891 non-null    float64\n",
      " 10  Cabin        204 non-null    object \n",
      " 11  Embarked     889 non-null    object \n",
      "dtypes: float64(2), int64(5), object(5)\n",
      "memory usage: 83.7+ KB\n"
     ]
    }
   ],
   "source": [
    "data.info()"
   ]
  },
  {
   "cell_type": "code",
   "execution_count": 6,
   "id": "4232c608",
   "metadata": {},
   "outputs": [],
   "source": [
    "# First step is Data Preprocessing Method\n",
    "# It is sub-divided into 5 parts:-\n",
    "# 1.> Handling missing value\n",
    "# 2.> Handling Char/Object variable\n",
    "# 3.> Handling Outlier\n",
    "# 4.> Feature Scaling or Scaling Data\n",
    "# 5.> Imbalance Treatment"
   ]
  },
  {
   "cell_type": "markdown",
   "id": "a52386f8",
   "metadata": {},
   "source": [
    "# 1.> Handling missing value"
   ]
  },
  {
   "cell_type": "code",
   "execution_count": 7,
   "id": "652c89a1",
   "metadata": {},
   "outputs": [
    {
     "data": {
      "text/plain": [
       "PassengerId     0.000000\n",
       "Survived        0.000000\n",
       "Pclass          0.000000\n",
       "Name            0.000000\n",
       "Sex             0.000000\n",
       "Age            19.865320\n",
       "SibSp           0.000000\n",
       "Parch           0.000000\n",
       "Ticket          0.000000\n",
       "Fare            0.000000\n",
       "Cabin          77.104377\n",
       "Embarked        0.224467\n",
       "dtype: float64"
      ]
     },
     "execution_count": 7,
     "metadata": {},
     "output_type": "execute_result"
    }
   ],
   "source": [
    "data.isnull().sum()/891 * 100"
   ]
  },
  {
   "cell_type": "code",
   "execution_count": 8,
   "id": "e8e109e7",
   "metadata": {},
   "outputs": [
    {
     "data": {
      "text/plain": [
       "PassengerId      0\n",
       "Survived         0\n",
       "Pclass           0\n",
       "Name             0\n",
       "Sex              0\n",
       "Age            177\n",
       "SibSp            0\n",
       "Parch            0\n",
       "Ticket           0\n",
       "Fare             0\n",
       "Cabin          687\n",
       "Embarked         2\n",
       "dtype: int64"
      ]
     },
     "execution_count": 8,
     "metadata": {},
     "output_type": "execute_result"
    }
   ],
   "source": [
    "data.isnull().sum()"
   ]
  },
  {
   "cell_type": "code",
   "execution_count": 9,
   "id": "67d918d4",
   "metadata": {},
   "outputs": [],
   "source": [
    "import seaborn as sns\n",
    "sns.set()\n",
    "import warnings\n",
    "warnings.filterwarnings('ignore')"
   ]
  },
  {
   "cell_type": "code",
   "execution_count": 10,
   "id": "9567f52e",
   "metadata": {},
   "outputs": [
    {
     "data": {
      "text/plain": [
       "<Axes: >"
      ]
     },
     "execution_count": 10,
     "metadata": {},
     "output_type": "execute_result"
    },
    {
     "data": {
      "image/png": "[encoded data removed]",
      "text/plain": [
       "<Figure size 640x480 with 1 Axes>"
      ]
     },
     "metadata": {},
     "output_type": "display_data"
    }
   ],
   "source": [
    "sns.boxplot(data['Age'])"
   ]
  },
  {
   "cell_type": "code",
   "execution_count": 11,
   "id": "196cb5fb",
   "metadata": {},
   "outputs": [],
   "source": [
    "# There are outlier thats why will go will median.\n",
    "# If there were no outlier then will go with mean"
   ]
  },
  {
   "cell_type": "code",
   "execution_count": 12,
   "id": "ed986fb4",
   "metadata": {},
   "outputs": [],
   "source": [
    "dataset = data['Age'].fillna(data['Age'].median())"
   ]
  },
  {
   "cell_type": "code",
   "execution_count": 13,
   "id": "38dc34e3",
   "metadata": {},
   "outputs": [
    {
     "data": {
      "text/plain": [
       "0"
      ]
     },
     "execution_count": 13,
     "metadata": {},
     "output_type": "execute_result"
    }
   ],
   "source": [
    "dataset.isnull().sum()"
   ]
  },
  {
   "cell_type": "code",
   "execution_count": 14,
   "id": "183cf2aa",
   "metadata": {},
   "outputs": [
    {
     "data": {
      "text/plain": [
       "29.36158249158249"
      ]
     },
     "execution_count": 14,
     "metadata": {},
     "output_type": "execute_result"
    }
   ],
   "source": [
    "dataset.mean()"
   ]
  },
  {
   "cell_type": "code",
   "execution_count": 15,
   "id": "1130bb72",
   "metadata": {},
   "outputs": [
    {
     "data": {
      "text/plain": [
       "(891,)"
      ]
     },
     "execution_count": 15,
     "metadata": {},
     "output_type": "execute_result"
    }
   ],
   "source": [
    "dataset.shape"
   ]
  },
  {
   "cell_type": "code",
   "execution_count": 16,
   "id": "ae1e2831",
   "metadata": {},
   "outputs": [
    {
     "data": {
      "text/plain": [
       "891"
      ]
     },
     "execution_count": 16,
     "metadata": {},
     "output_type": "execute_result"
    }
   ],
   "source": [
    "len(dataset)"
   ]
  },
  {
   "cell_type": "code",
   "execution_count": 17,
   "id": "c349a3f3",
   "metadata": {},
   "outputs": [
    {
     "name": "stdout",
     "output_type": "stream",
     "text": [
      "<class 'pandas.core.series.Series'>\n",
      "RangeIndex: 891 entries, 0 to 890\n",
      "Series name: Age\n",
      "Non-Null Count  Dtype  \n",
      "--------------  -----  \n",
      "891 non-null    float64\n",
      "dtypes: float64(1)\n",
      "memory usage: 7.1 KB\n"
     ]
    }
   ],
   "source": [
    "dataset.info()"
   ]
  },
  {
   "cell_type": "code",
   "execution_count": 18,
   "id": "51c7b7a1",
   "metadata": {},
   "outputs": [],
   "source": [
    "# Here checking the Hypothesis Testing on the sample dataset of 25 value"
   ]
  },
  {
   "cell_type": "code",
   "execution_count": 19,
   "id": "78a085e2",
   "metadata": {},
   "outputs": [],
   "source": [
    "# "
   ]
  },
  {
   "cell_type": "code",
   "execution_count": 20,
   "id": "a69b8982",
   "metadata": {},
   "outputs": [
    {
     "data": {
      "text/plain": [
       "array([28., 22., 28., 28., 25., 41., 20., 28., 28., 24.,  2., 52., 21.,\n",
       "        9., 28., 45., 29., 40., 24., 42., 18., 24., 26., 18., 28.])"
      ]
     },
     "execution_count": 20,
     "metadata": {},
     "output_type": "execute_result"
    }
   ],
   "source": [
    "sample_dataset = dataset.sample(25).values\n",
    "sample_dataset"
   ]
  },
  {
   "cell_type": "code",
   "execution_count": 21,
   "id": "6f1d6db6",
   "metadata": {},
   "outputs": [
    {
     "data": {
      "text/plain": [
       "27.12"
      ]
     },
     "execution_count": 21,
     "metadata": {},
     "output_type": "execute_result"
    }
   ],
   "source": [
    "sample_mean = sample_dataset.mean()\n",
    "sample_mean"
   ]
  },
  {
   "cell_type": "code",
   "execution_count": 22,
   "id": "92d8b25c",
   "metadata": {},
   "outputs": [],
   "source": [
    "# Question here to check normality and do check hypothesis test"
   ]
  },
  {
   "cell_type": "code",
   "execution_count": 23,
   "id": "40324ce3",
   "metadata": {},
   "outputs": [],
   "source": [
    "# H0 : The person mean age is 35\n",
    "# Ha : The person mean age is less than 35\n",
    "# 25 sample data is normaly distribution or not : Shapiro Wilk Test\n",
    "# if the value is more 0.05 then my data is normal distribution\n",
    "from scipy.stats import shapiro"
   ]
  },
  {
   "cell_type": "code",
   "execution_count": 24,
   "id": "620aa66f",
   "metadata": {},
   "outputs": [
    {
     "name": "stdout",
     "output_type": "stream",
     "text": [
      "ShapiroResult(statistic=0.933348536491394, pvalue=0.10386457294225693)\n"
     ]
    }
   ],
   "source": [
    "shapiro_age = shapiro(sample_dataset)\n",
    "print(shapiro_age)"
   ]
  },
  {
   "cell_type": "code",
   "execution_count": 25,
   "id": "2a005ca2",
   "metadata": {},
   "outputs": [],
   "source": [
    "# Since, pvalue is more than 0.05 hence, we can say that 25 sample data are also normal dist"
   ]
  },
  {
   "cell_type": "code",
   "execution_count": 26,
   "id": "26e52afe",
   "metadata": {},
   "outputs": [],
   "source": [
    "pop_mean = 35"
   ]
  },
  {
   "cell_type": "code",
   "execution_count": 27,
   "id": "0d36fb7c",
   "metadata": {},
   "outputs": [
    {
     "data": {
      "text/plain": [
       "35"
      ]
     },
     "execution_count": 27,
     "metadata": {},
     "output_type": "execute_result"
    }
   ],
   "source": [
    "pop_mean"
   ]
  },
  {
   "cell_type": "code",
   "execution_count": 28,
   "id": "365cbc9c",
   "metadata": {},
   "outputs": [],
   "source": [
    "# Finding hypothesis testing\n",
    "import scipy.stats as stats"
   ]
  },
  {
   "cell_type": "code",
   "execution_count": 30,
   "id": "9628e65e",
   "metadata": {},
   "outputs": [
    {
     "name": "stdout",
     "output_type": "stream",
     "text": [
      "t_statistic -3.646012763478334\n",
      "p_value 0.0006409759214633182\n"
     ]
    }
   ],
   "source": [
    "# one-sample t-test\n",
    "t_statistic, p_value = stats.ttest_1samp(sample_dataset, pop_mean)\n",
    "print(\"t_statistic\", t_statistic)\n",
    "print(\"p_value\", p_value/2)\n",
    "# p_value / 2: The division by 2 is used when performing a one-tailed test"
   ]
  },
  {
   "cell_type": "code",
   "execution_count": 31,
   "id": "2a0e3eee",
   "metadata": {},
   "outputs": [
    {
     "data": {
      "text/plain": [
       "0.0012819518429266364"
      ]
     },
     "execution_count": 31,
     "metadata": {},
     "output_type": "execute_result"
    }
   ],
   "source": [
    "p_value"
   ]
  },
  {
   "cell_type": "code",
   "execution_count": 32,
   "id": "4338f7b9",
   "metadata": {},
   "outputs": [
    {
     "name": "stdout",
     "output_type": "stream",
     "text": [
      "Reject Null Hypothesis and Accept Alternative Hypothesis\n"
     ]
    }
   ],
   "source": [
    "alpha = 0.05\n",
    "\n",
    "if p_value <= alpha:\n",
    "    print(\"Reject Null Hypothesis and Accept Alternative Hypothesis\")\n",
    "else:\n",
    "    print(\"Fail to reject null hypotheis\")"
   ]
  },
  {
   "cell_type": "code",
   "execution_count": 34,
   "id": "ea00df51",
   "metadata": {},
   "outputs": [],
   "source": [
    "# Conclusion:\n",
    "# If your objective is to determine if 25 sample data points are normally distributed, use a normality test like Shapiro-Wilk.\n",
    "# If the p-value from the normality test is more than 0.05, you cannot reject the hypothesis that the data is normally distributed.\""
   ]
  },
  {
   "cell_type": "markdown",
   "id": "e0181758",
   "metadata": {},
   "source": [
    "\"\"\"Key Points:\n",
    "Understanding p-value in the Context of a t-test:\n",
    "\n",
    "1.) A p-value greater than 0.05 in a one-sample t-test indicates that the sample mean is not significantly different from the population mean. It does not provide any direct information about whether the data is normally distributed.\n",
    "    Testing for Normality:\n",
    "\n",
    "2.) If you want to test whether a sample of data is normally distributed, you should use a normality test, such as the Shapiro-Wilk test or the Kolmogorov-Smirnov test.\n",
    "    A high p-value (> 0.05) in these normality tests would suggest that the data does not significantly deviate from normality, meaning it could be considered normally distributed.\n",
    "    Why Normality Matters in t-tests:\n",
    "\n",
    "3.) The one-sample t-test assumes that the data is approximately normally distributed, especially for small sample sizes (like 25). If this assumption is violated, the results of the t-test may not be reliable.\"\"\""
   ]
  },
  {
   "cell_type": "markdown",
   "id": "80724849",
   "metadata": {},
   "source": [
    "\"\"\"In hypothesis testing, **significance** refers to the threshold at which you decide whether to reject or fail to reject the null hypothesis. This threshold is defined by a **significance level**, denoted by \\(\\alpha\\), which represents the probability of making a **Type I error**—rejecting the null hypothesis when it is actually true.\n",
    "\n",
    "### Key Concepts of Hypothesis Testing and Significance:\n",
    "\n",
    "1. **Hypothesis Testing**:\n",
    "   - **Null Hypothesis (H₀)**: A statement that there is no effect or no difference. It is the hypothesis that the test seeks to reject.\n",
    "   - **Alternative Hypothesis (H₁)**: A statement that there is an effect or a difference. It represents what you are trying to prove.\n",
    "\n",
    "2. **Significance Level (\\(\\alpha\\))**:\n",
    "   - The significance level is the probability of rejecting the null hypothesis when it is true (Type I error). Common significance levels are 0.05 (5%), 0.01 (1%), or 0.10 (10%).\n",
    "   - For example, a significance level of \\(\\alpha = 0.05\\) means there is a 5% risk of concluding that a difference exists when there is no actual difference.\n",
    "\n",
    "3. **p-value**:\n",
    "   - The p-value represents the probability of observing the data, or something more extreme, given that the null hypothesis is true.\n",
    "   - If the **p-value** is **less than or equal to** the chosen significance level (\\(\\alpha\\)), you **reject the null hypothesis**. This means there is sufficient evidence to support the alternative hypothesis.\n",
    "   - If the **p-value** is **greater than** the significance level, you **fail to reject the null hypothesis**. This means there is not enough evidence to support the alternative hypothesis.\n",
    "\n",
    "4. **Interpreting the Significance in Hypothesis Testing**:\n",
    "   - **Reject H₀**: If the p-value is less than \\(\\alpha\\), the result is statistically significant, indicating evidence against the null hypothesis in favor of the alternative hypothesis.\n",
    "   - **Fail to Reject H₀**: If the p-value is greater than \\(\\alpha\\), the result is not statistically significant, indicating insufficient evidence to reject the null hypothesis.\n",
    "\n",
    "### Significance in Your Context:\n",
    "\n",
    "When conducting hypothesis tests like the **one-sample t-test**, the **significance** level determines whether the difference between the sample mean and the population mean is statistically significant or could have occurred by random chance.\n",
    "\n",
    "For example, suppose you conducted a one-sample t-test with the following:\n",
    "\n",
    "- **Null Hypothesis (H₀)**: The sample mean is equal to the population mean (\\(\\mu = \\mu_0\\)).\n",
    "- **Alternative Hypothesis (H₁)**: The sample mean is different from the population mean (\\(\\mu \\neq \\mu_0\\)).\n",
    "\n",
    "If you choose a significance level of 0.05 and the resulting p-value is 0.03:\n",
    "\n",
    "- Since **0.03 < 0.05**, you would **reject the null hypothesis** and conclude that there is a statistically significant difference between the sample mean and the population mean.\n",
    "- Conversely, if the p-value were 0.08, since **0.08 > 0.05**, you would **fail to reject the null hypothesis**, indicating that the observed difference is not statistically significant and could be due to random chance.\n",
    "\n",
    "### Summary:\n",
    "\n",
    "- **Significance** in hypothesis testing determines whether to reject or fail to reject the null hypothesis based on a predetermined significance level (\\(\\alpha\\)).\n",
    "- The **p-value** is compared against \\(\\alpha\\) to make this decision.\n",
    "- If the p-value is **less than \\(\\alpha\\)**, the result is **statistically significant**, and you reject the null hypothesis.\n",
    "- If the p-value is **greater than \\(\\alpha\\)**, the result is **not statistically significant**, and you fail to reject the null hypothesis.\n",
    "\n",
    "Would you like more examples of hypothesis testing or explanations on related topics?\"\"\""
   ]
  },
  {
   "cell_type": "code",
   "execution_count": null,
   "id": "3c16862c",
   "metadata": {},
   "outputs": [],
   "source": []
  },
  {
   "cell_type": "code",
   "execution_count": null,
   "id": "333d3e71",
   "metadata": {},
   "outputs": [],
   "source": []
  },
  {
   "cell_type": "code",
   "execution_count": null,
   "id": "392a6d0a",
   "metadata": {},
   "outputs": [],
   "source": []
  },
  {
   "cell_type": "code",
   "execution_count": null,
   "id": "5bb44146",
   "metadata": {},
   "outputs": [],
   "source": []
  },
  {
   "cell_type": "code",
   "execution_count": null,
   "id": "5c0b67cc",
   "metadata": {},
   "outputs": [],
   "source": []
  },
  {
   "cell_type": "code",
   "execution_count": null,
   "id": "f10e463f",
   "metadata": {},
   "outputs": [],
   "source": []
  },
  {
   "cell_type": "code",
   "execution_count": null,
   "id": "82edb324",
   "metadata": {},
   "outputs": [],
   "source": []
  },
  {
   "cell_type": "code",
   "execution_count": null,
   "id": "10c90278",
   "metadata": {},
   "outputs": [],
   "source": []
  },
  {
   "cell_type": "code",
   "execution_count": null,
   "id": "4d2e6f05",
   "metadata": {},
   "outputs": [],
   "source": []
  },
  {
   "cell_type": "code",
   "execution_count": null,
   "id": "20667ef3",
   "metadata": {},
   "outputs": [],
   "source": []
  },
  {
   "cell_type": "code",
   "execution_count": null,
   "id": "1935f28b",
   "metadata": {},
   "outputs": [],
   "source": []
  },
  {
   "cell_type": "code",
   "execution_count": null,
   "id": "aeb1422b",
   "metadata": {},
   "outputs": [],
   "source": []
  },
  {
   "cell_type": "code",
   "execution_count": null,
   "id": "e706e2d5",
   "metadata": {},
   "outputs": [],
   "source": []
  },
  {
   "cell_type": "code",
   "execution_count": null,
   "id": "c88ffbfa",
   "metadata": {},
   "outputs": [],
   "source": []
  }
 ],
 "metadata": {
  "kernelspec": {
   "display_name": "Python 3 (ipykernel)",
   "language": "python",
   "name": "python3"
  },
  "language_info": {
   "codemirror_mode": {
    "name": "ipython",
    "version": 3
   },
   "file_extension": ".py",
   "mimetype": "text/x-python",
   "name": "python",
   "nbconvert_exporter": "python",
   "pygments_lexer": "ipython3",
   "version": "3.10.9"
  }
 },
 "nbformat": 4,
 "nbformat_minor": 5
}
